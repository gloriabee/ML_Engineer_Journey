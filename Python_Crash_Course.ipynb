{
  "nbformat": 4,
  "nbformat_minor": 0,
  "metadata": {
    "colab": {
      "provenance": [],
      "authorship_tag": "ABX9TyOCxDjIP2SfsYiPfbUaVQyG",
      "include_colab_link": true
    },
    "kernelspec": {
      "name": "python3",
      "display_name": "Python 3"
    },
    "language_info": {
      "name": "python"
    }
  },
  "cells": [
    {
      "cell_type": "markdown",
      "metadata": {
        "id": "view-in-github",
        "colab_type": "text"
      },
      "source": [
        "<a href=\"https://colab.research.google.com/github/gloriabee/ML_Engineer_Journey/blob/main/Python_Crash_Course.ipynb\" target=\"_parent\"><img src=\"https://colab.research.google.com/assets/colab-badge.svg\" alt=\"Open In Colab\"/></a>"
      ]
    },
    {
      "cell_type": "markdown",
      "source": [
        "## Single Line Comment\n"
      ],
      "metadata": {
        "id": "LJuVXGNQiUX3"
      }
    },
    {
      "cell_type": "code",
      "source": [
        "# This is single line comment\n",
        "\n",
        "'''This is\n",
        "multiline\n",
        "comments'''"
      ],
      "metadata": {
        "colab": {
          "base_uri": "https://localhost:8080/",
          "height": 35
        },
        "id": "G9KBmDOkiKAa",
        "outputId": "35171b55-628b-4e99-eaa9-d88bd92439ed"
      },
      "execution_count": 9,
      "outputs": [
        {
          "output_type": "execute_result",
          "data": {
            "text/plain": [
              "'This is\\nmultiline\\ncomments'"
            ],
            "application/vnd.google.colaboratory.intrinsic+json": {
              "type": "string"
            }
          },
          "metadata": {},
          "execution_count": 9
        }
      ]
    },
    {
      "cell_type": "markdown",
      "source": [
        "### Variable Declaration"
      ],
      "metadata": {
        "id": "6A8hqv2eilIE"
      }
    },
    {
      "cell_type": "code",
      "source": [
        "name=\"Gloria\"\n",
        "Name=\"Win Nyunt\"\n",
        "print(name)\n",
        "print(Name)"
      ],
      "metadata": {
        "colab": {
          "base_uri": "https://localhost:8080/"
        },
        "id": "mTYx-S3aikZm",
        "outputId": "81273402-4f12-475f-e2fe-7f37b0d8f024"
      },
      "execution_count": 10,
      "outputs": [
        {
          "output_type": "stream",
          "name": "stdout",
          "text": [
            "Gloria\n",
            "Win Nyunt\n"
          ]
        }
      ]
    },
    {
      "cell_type": "markdown",
      "source": [
        "## Indentation"
      ],
      "metadata": {
        "id": "-W3BsaqzlyzX"
      }
    },
    {
      "cell_type": "code",
      "source": [
        "age=32\n",
        "if age>30:\n",
        "  print(age)\n",
        "print(age)"
      ],
      "metadata": {
        "colab": {
          "base_uri": "https://localhost:8080/"
        },
        "id": "bm9VQsZcl1L-",
        "outputId": "f490e3fa-ff5c-4923-cf80-3cc5480a51d6"
      },
      "execution_count": 11,
      "outputs": [
        {
          "output_type": "stream",
          "name": "stdout",
          "text": [
            "32\n",
            "32\n"
          ]
        }
      ]
    },
    {
      "cell_type": "markdown",
      "source": [
        "## Data Types"
      ],
      "metadata": {
        "id": "LmlPPiTfmGZe"
      }
    },
    {
      "cell_type": "code",
      "source": [
        "age=32\n",
        "height=6.1\n",
        "name=\"Gloria\"\n",
        "is_student=True\n",
        "\n",
        "print(type(age))\n",
        "print(type(height))\n",
        "print(type(name))\n",
        "print(type(is_student))"
      ],
      "metadata": {
        "colab": {
          "base_uri": "https://localhost:8080/"
        },
        "id": "zSyPWoySmIni",
        "outputId": "4559c321-92b2-4448-827c-216be399fd84"
      },
      "execution_count": 12,
      "outputs": [
        {
          "output_type": "stream",
          "name": "stdout",
          "text": [
            "<class 'int'>\n",
            "<class 'float'>\n",
            "<class 'str'>\n",
            "<class 'bool'>\n"
          ]
        }
      ]
    },
    {
      "cell_type": "markdown",
      "source": [
        "### Type Conversion"
      ],
      "metadata": {
        "id": "mNimM2B_uzND"
      }
    },
    {
      "cell_type": "code",
      "source": [
        "age='25'\n",
        "age=int(age)\n",
        "print(type(age))\n"
      ],
      "metadata": {
        "colab": {
          "base_uri": "https://localhost:8080/"
        },
        "id": "5j1tX3Z0u1Fa",
        "outputId": "3f295042-e7bb-4bc4-fd89-bfeeb25f4284"
      },
      "execution_count": 13,
      "outputs": [
        {
          "output_type": "stream",
          "name": "stdout",
          "text": [
            "<class 'int'>\n"
          ]
        }
      ]
    },
    {
      "cell_type": "code",
      "source": [
        "height=5.11\n",
        "type(height)\n",
        "float(int(height))"
      ],
      "metadata": {
        "colab": {
          "base_uri": "https://localhost:8080/"
        },
        "id": "N-79OZpavAv1",
        "outputId": "067f09b9-a9f5-4d0f-9ae4-a58db08ac81d"
      },
      "execution_count": 14,
      "outputs": [
        {
          "output_type": "execute_result",
          "data": {
            "text/plain": [
              "5.0"
            ]
          },
          "metadata": {},
          "execution_count": 14
        }
      ]
    },
    {
      "cell_type": "code",
      "source": [
        "## Dynamic Typing\n",
        "var=10\n",
        "print(var,type(var))\n",
        "\n",
        "var=\"hello\"\n",
        "print(var,type(var))"
      ],
      "metadata": {
        "colab": {
          "base_uri": "https://localhost:8080/"
        },
        "id": "MMWfbTO6vKvw",
        "outputId": "7549db5d-cd72-47b6-d59a-cc26f25e19b9"
      },
      "execution_count": 15,
      "outputs": [
        {
          "output_type": "stream",
          "name": "stdout",
          "text": [
            "10 <class 'int'>\n",
            "hello <class 'str'>\n"
          ]
        }
      ]
    },
    {
      "cell_type": "code",
      "source": [
        "a=10\n",
        "b=10\n",
        "type(a==b)"
      ],
      "metadata": {
        "colab": {
          "base_uri": "https://localhost:8080/"
        },
        "id": "nDTxnhEtxtVB",
        "outputId": "23b19a94-6710-4957-898d-c55e83d64fe5"
      },
      "execution_count": 16,
      "outputs": [
        {
          "output_type": "execute_result",
          "data": {
            "text/plain": [
              "bool"
            ]
          },
          "metadata": {},
          "execution_count": 16
        }
      ]
    },
    {
      "cell_type": "code",
      "source": [
        "result=\"Hello\"+str(5)\n",
        "print(result)"
      ],
      "metadata": {
        "colab": {
          "base_uri": "https://localhost:8080/"
        },
        "id": "tWJse2vRx2FA",
        "outputId": "40067903-1a09-4c56-b22f-e131b7aebfab"
      },
      "execution_count": 17,
      "outputs": [
        {
          "output_type": "stream",
          "name": "stdout",
          "text": [
            "Hello5\n"
          ]
        }
      ]
    },
    {
      "cell_type": "markdown",
      "source": [
        "## Input"
      ],
      "metadata": {
        "id": "Rx6Lm2l8wKsU"
      }
    },
    {
      "cell_type": "code",
      "source": [
        "age=int(input(\"How old are you?\"))\n",
        "print(age,type(age))"
      ],
      "metadata": {
        "id": "IPfz36uBwJcn"
      },
      "execution_count": null,
      "outputs": []
    },
    {
      "cell_type": "markdown",
      "source": [
        "### Operators in python\n"
      ],
      "metadata": {
        "id": "IyZdOGhFyN0K"
      }
    },
    {
      "cell_type": "code",
      "source": [
        "a=10\n",
        "b=5\n",
        "\n",
        "add_result=a+b\n",
        "sub_result=a-b\n",
        "mul_result=a*b\n",
        "div_result=a/b\n",
        "floor_div_result=a//b\n",
        "modulus_result=a%b\n",
        "exponent_result=a**b\n",
        "\n",
        "print(\"addition: \",add_result)\n",
        "print(\"subtraction: \",sub_result)\n",
        "print(\"multiplication: \",mul_result)\n",
        "print(\"division: \",div_result)\n",
        "print(\"floor division: \",floor_div_result)\n",
        "print(\"modulus: \",modulus_result)\n",
        "print(\"exponent: \",exponent_result)\n"
      ],
      "metadata": {
        "id": "-L_qyRa83LJ4"
      },
      "execution_count": null,
      "outputs": []
    },
    {
      "cell_type": "markdown",
      "source": [
        "## Comparison Operators"
      ],
      "metadata": {
        "id": "YAnCkhGEyDGq"
      }
    },
    {
      "cell_type": "code",
      "source": [
        "a=10\n",
        "b=10\n",
        "print(a==b)\n",
        "\n",
        "str1=\"Gloria\"\n",
        "str2=\"gloria\"\n",
        "print(str1==str2)\n",
        "\n",
        "# Not equal to\n",
        "str1!=str2\n",
        "\n",
        "#Greater than\n",
        "num1=45\n",
        "num2=55\n",
        "print(num1>num2)\n",
        "\n",
        "#Less than\n",
        "print(num1<num2)\n",
        "\n",
        "#greater than equal to\n",
        "num1=45\n",
        "num2=45\n",
        "print(num1>=num2)\n",
        "print(num1<=num2)\n"
      ],
      "metadata": {
        "id": "jC4cO7y_yGZQ"
      },
      "execution_count": null,
      "outputs": []
    },
    {
      "cell_type": "markdown",
      "source": [
        "## Logical Operators"
      ],
      "metadata": {
        "id": "jn3TDbKxzfWO"
      }
    },
    {
      "cell_type": "code",
      "source": [
        "from re import T\n",
        "## And, Not, OR\n",
        "X=True\n",
        "Y=False\n",
        "result= X and Y\n",
        "print(result)\n",
        "\n",
        "result= X or Y\n",
        "print(result)\n",
        "\n",
        "result= not X\n",
        "print(result)"
      ],
      "metadata": {
        "id": "QcxgIT3Xy2lW"
      },
      "execution_count": null,
      "outputs": []
    },
    {
      "cell_type": "markdown",
      "source": [
        "**Question 4:** Write a Python program to find the largest of three numbers."
      ],
      "metadata": {
        "id": "PeROqE6G2cz2"
      }
    },
    {
      "cell_type": "code",
      "source": [
        "num1 = float(input(\"Enter first number: \"))\n",
        "num2 = float(input(\"Enter second number: \"))\n",
        "num3 = float(input(\"Enter third number: \"))\n",
        "print(max(num1,num2,num3))"
      ],
      "metadata": {
        "id": "m1wCO-2Y2bBC"
      },
      "execution_count": null,
      "outputs": []
    },
    {
      "cell_type": "markdown",
      "source": [
        "**Question 5:** Write a Python program to calculate the factorial of a number."
      ],
      "metadata": {
        "id": "XH6NDWbO2aos"
      }
    },
    {
      "cell_type": "code",
      "source": [
        "# from math import factorial\n",
        "# print(factorial(4))\n",
        "\n"
      ],
      "metadata": {
        "id": "C89WrZZN2phL"
      },
      "execution_count": null,
      "outputs": []
    },
    {
      "cell_type": "markdown",
      "source": [
        "**Question 7:** Write a Python program to swap the values of two variables."
      ],
      "metadata": {
        "id": "m-8bLzPB4HiR"
      }
    },
    {
      "cell_type": "code",
      "source": [
        "a=5\n",
        "b=7\n",
        "a,b=b,a\n",
        "print(a)\n",
        "print(b)"
      ],
      "metadata": {
        "id": "IdwbWVRq4IJH"
      },
      "execution_count": null,
      "outputs": []
    },
    {
      "cell_type": "markdown",
      "source": [
        "**Question 8:** Write a Python program to convert Celsius to Fahrenheit."
      ],
      "metadata": {
        "id": "K0cYzfJ74Pk8"
      }
    },
    {
      "cell_type": "code",
      "source": [
        "celsius = float(input(\"Enter temperature in Celsius: \"))\n",
        "fahrenheit = (celsius * 9/5) + 32\n",
        "print(f\"{celsius}°C is equal to {fahrenheit}°F\")"
      ],
      "metadata": {
        "id": "84_8oYNF4Sau"
      },
      "execution_count": null,
      "outputs": []
    },
    {
      "cell_type": "markdown",
      "source": [
        "**Question 16:** Write a Python program to find the sum of the first n natural numbers."
      ],
      "metadata": {
        "id": "pP95wH-B4Y5y"
      }
    },
    {
      "cell_type": "code",
      "source": [
        "# Solution\n",
        "n = int(input(\"Enter a number: \"))\n",
        "sum_n = (n * (n + 1)) // 2\n",
        "print(f\"The sum of the first {n} natural numbers is {sum_n}\")"
      ],
      "metadata": {
        "id": "MK5LSd4U4jH2"
      },
      "execution_count": null,
      "outputs": []
    },
    {
      "cell_type": "markdown",
      "source": [
        "**Question 17:** Write a Python program to check if a year is a leap year."
      ],
      "metadata": {
        "id": "3H9BEWNb40Qy"
      }
    },
    {
      "cell_type": "code",
      "source": [
        "# Solution\n",
        "year = int(input(\"Enter a year: \"))\n",
        "if (year % 4 == 0 and year % 100 != 0) or (year % 400 == 0):\n",
        "    print(f\"{year} is a leap year.\")\n",
        "else:\n",
        "    print(f\"{year} is not a leap year.\")"
      ],
      "metadata": {
        "id": "29aIHzwS42V2"
      },
      "execution_count": null,
      "outputs": []
    },
    {
      "cell_type": "markdown",
      "source": [
        "**Question 18:** Write a Python program to reverse a string."
      ],
      "metadata": {
        "id": "HFYs-qks5gOs"
      }
    },
    {
      "cell_type": "code",
      "source": [
        "string=input('Enter a string')\n",
        "print(string[::-1])"
      ],
      "metadata": {
        "id": "Li_QIbtk5fGE"
      },
      "execution_count": null,
      "outputs": []
    },
    {
      "cell_type": "markdown",
      "source": [
        "**Question 19:** Write a Python program to check if a string is a palindrome."
      ],
      "metadata": {
        "id": "NLCe4EUe5pqQ"
      }
    },
    {
      "cell_type": "code",
      "source": [
        "string=input('Enter a string')\n",
        "if string==string[::-1]:\n",
        "  print('Palindrome')\n",
        "else:\n",
        "  print('Not Palindrome')"
      ],
      "metadata": {
        "id": "ppUuY6Sm5uXL"
      },
      "execution_count": null,
      "outputs": []
    },
    {
      "cell_type": "markdown",
      "source": [
        "**Question 20:** Write a Python program to sort a list of numbers in ascending order."
      ],
      "metadata": {
        "id": "Gv-2Laec541c"
      }
    },
    {
      "cell_type": "code",
      "source": [
        "# list=[10,4,2,42]\n",
        "# print(sorted(list))\n",
        "\n"
      ],
      "metadata": {
        "id": "dLcLWwwY55ij"
      },
      "execution_count": null,
      "outputs": []
    },
    {
      "cell_type": "markdown",
      "source": [
        "## Conditional Statements"
      ],
      "metadata": {
        "id": "bHljcGZE63i7"
      }
    },
    {
      "cell_type": "code",
      "source": [
        "## if elseif else statement\n",
        "\n",
        "age=19\n",
        "if age<13:\n",
        "  print(\"You are a child\")\n",
        "elif age<18:\n",
        "  print(\"You are a teenager\")\n",
        "else:\n",
        "  print(\"You are an adult\")\n"
      ],
      "metadata": {
        "id": "ajynG9BV650R"
      },
      "execution_count": null,
      "outputs": []
    },
    {
      "cell_type": "code",
      "source": [
        "# Nested Conditional Statements\n",
        "num=int(input(\"Enter a number\"))\n",
        "\n",
        "if num>0:\n",
        "  print(\"The number is positive\")\n",
        "  if num%2==0:\n",
        "    print(\"The number is even\")\n",
        "  else:\n",
        "    print(\"The number is odd\")\n",
        "else:\n",
        "  print(\"The number is negative\")\n"
      ],
      "metadata": {
        "id": "zY6_YV_Y79_7"
      },
      "execution_count": null,
      "outputs": []
    },
    {
      "cell_type": "markdown",
      "source": [
        "## Loops in Python"
      ],
      "metadata": {
        "id": "JGMYNYad9GHv"
      }
    },
    {
      "cell_type": "code",
      "source": [
        "# for loop\n",
        "for i in range(5):\n",
        "  print(i)\n",
        "\n",
        "for i in range(1,6):\n",
        "  print(i)\n",
        "\n",
        "for i in range(1,10,2):\n",
        "  print(i)\n",
        "\n",
        "for i in range(10,1,-2):\n",
        "  print(i)\n"
      ],
      "metadata": {
        "id": "GtXzcX-V9IjJ"
      },
      "execution_count": null,
      "outputs": []
    },
    {
      "cell_type": "code",
      "source": [
        "# Strings\n",
        "\n",
        "str='Gloria Win Nyunt'\n",
        "for i in str:\n",
        "  print(i)"
      ],
      "metadata": {
        "id": "_iDlvNCy-GPw"
      },
      "execution_count": null,
      "outputs": []
    },
    {
      "cell_type": "code",
      "source": [
        "# While loop\n",
        "\n",
        "count=0\n",
        "while count<5:\n",
        "  print(count)\n",
        "  count=count+1\n"
      ],
      "metadata": {
        "id": "BCaq_ESx_lwI"
      },
      "execution_count": null,
      "outputs": []
    },
    {
      "cell_type": "code",
      "source": [
        "# loop control statements\n",
        "# break statement\n",
        "for i in range(10):\n",
        "  if i==4:\n",
        "    break\n",
        "  print(i)\n",
        "\n"
      ],
      "metadata": {
        "id": "XQMOJsLn__Dd"
      },
      "execution_count": null,
      "outputs": []
    },
    {
      "cell_type": "code",
      "source": [
        "# loop control statements\n",
        "# continue statement\n",
        "for i in range(10):\n",
        "  if i==4:\n",
        "    continue\n",
        "  print(i)"
      ],
      "metadata": {
        "id": "rR_9ycDgAXbG"
      },
      "execution_count": null,
      "outputs": []
    },
    {
      "cell_type": "code",
      "source": [
        "# pass\n",
        "## The pass statement is a null operation; it does nothing\n",
        "\n",
        "for i in range(5):\n",
        "  if i==3:\n",
        "    pass\n",
        "  print(i)"
      ],
      "metadata": {
        "id": "G2T3O-5bBBcS"
      },
      "execution_count": null,
      "outputs": []
    },
    {
      "cell_type": "code",
      "source": [
        "# Nested loops\n",
        "# a loop inside a loop\n",
        "for i in range(3):\n",
        "  for j in range(2):\n",
        "    print(i,j)"
      ],
      "metadata": {
        "id": "IBRe8Ci7Bn_d"
      },
      "execution_count": null,
      "outputs": []
    },
    {
      "cell_type": "code",
      "source": [
        "# Calculate the sum of first N natural numbers using a while and for loop\n",
        "\n",
        "# using while loop\n",
        "n=10\n",
        "sum=0\n",
        "while n>0:\n",
        "  sum=sum+n\n",
        "  n=n-1\n",
        "print(sum)\n",
        "\n",
        "# using for loop\n",
        "sum=0\n",
        "for i in range(11):\n",
        "  sum=sum+i\n",
        "print(sum)\n"
      ],
      "metadata": {
        "id": "xqQlXJmuB4fB"
      },
      "execution_count": null,
      "outputs": []
    },
    {
      "cell_type": "code",
      "source": [
        "# Prime numbers between 1 and 100\n",
        "for num in range(1,101):\n",
        "  if num>1:\n",
        "    for i in range(2,num):\n",
        "      if num%i==0:\n",
        "        break\n",
        "    else:\n",
        "      print(num)\n"
      ],
      "metadata": {
        "id": "QG_BehDtC8nh"
      },
      "execution_count": null,
      "outputs": []
    },
    {
      "cell_type": "markdown",
      "source": [
        "Write a program that prints all the numbers from 1 to 10 using a for loop."
      ],
      "metadata": {
        "id": "y4i8NydO_lFL"
      }
    },
    {
      "cell_type": "code",
      "source": [
        "for i in range(1,11):\n",
        "  print(i)"
      ],
      "metadata": {
        "id": "XdwdyV3tNQhy"
      },
      "execution_count": null,
      "outputs": []
    },
    {
      "cell_type": "markdown",
      "source": [
        "Write a program that prints a 5x5 grid of asterisks (*) using nested loops."
      ],
      "metadata": {
        "id": "atgv6trPN5cm"
      }
    },
    {
      "cell_type": "code",
      "source": [
        "for i in range(5):\n",
        "  for j in range(5):\n",
        "    print(\"*\",end=\"\")\n",
        "  print(\"\")"
      ],
      "metadata": {
        "id": "Pd_LP4eMN-Sg"
      },
      "execution_count": null,
      "outputs": []
    },
    {
      "cell_type": "markdown",
      "source": [
        "Write a program that asks the user to input numbers until they input 0. The program should print the sum of all the input numbers."
      ],
      "metadata": {
        "id": "PoTvo2S-OVW2"
      }
    },
    {
      "cell_type": "code",
      "source": [
        "# sum=0\n",
        "# num=int(input(\"Enter number\"))\n",
        "# while num!=0:\n",
        "#   sum+=num\n",
        "#   num=int(input(\"Enter number\"))\n",
        "# print(sum)\n",
        "\n",
        "total=0\n",
        "while True:\n",
        "  num=float(input(\"Enter a number: \"))\n",
        "  if num==0:\n",
        "    break\n",
        "  total+=num\n",
        "print(total)"
      ],
      "metadata": {
        "id": "ryMaxoyPOWQu"
      },
      "execution_count": null,
      "outputs": []
    },
    {
      "cell_type": "code",
      "source": [
        "#Write a program that prints all the numbers from 1 to 10 except 5 using a for loop and continue statement.\n",
        "for i in range(1,11):\n",
        "  if i==5:\n",
        "    continue\n",
        "  print(i)\n"
      ],
      "metadata": {
        "id": "V_T-O5bRUQOk"
      },
      "execution_count": null,
      "outputs": []
    },
    {
      "cell_type": "markdown",
      "source": [
        "<!-- Write a program that asks the user to input a number and prints all the even numbers from 1 to that number using a for loop. -->\n"
      ],
      "metadata": {
        "id": "gzuNAiKOWP9Y"
      }
    },
    {
      "cell_type": "markdown",
      "source": [
        "Write a program that asks the user to input a number and prints all the even numbers from 1 to that number using a for loop."
      ],
      "metadata": {
        "id": "rRq7RilzZVqW"
      }
    },
    {
      "cell_type": "code",
      "source": [
        "num= int(input('Enter a number: '))\n",
        "for i in range(1,num+1):\n",
        "  if i%2==0:\n",
        "    print(i)"
      ],
      "metadata": {
        "id": "ONAuUZpIY4eR"
      },
      "execution_count": null,
      "outputs": []
    },
    {
      "cell_type": "markdown",
      "source": [
        "Write a program that calculates the factorial of a number input by the user using a while loop."
      ],
      "metadata": {
        "id": "VIRy0KYIZXAO"
      }
    },
    {
      "cell_type": "code",
      "source": [
        "num=int(input(\"Enter a number\"))\n",
        "fact=1\n",
        "i=1\n",
        "while i<=num:\n",
        "  fact*=i\n",
        "  i+=1\n",
        "print(fact)"
      ],
      "metadata": {
        "id": "0HYZ6eqcZara"
      },
      "execution_count": null,
      "outputs": []
    },
    {
      "cell_type": "markdown",
      "source": [
        "Write a program that calculates the sum of the digits of a number input by the user using a while loop."
      ],
      "metadata": {
        "id": "EvopvBbIgI9r"
      }
    },
    {
      "cell_type": "code",
      "source": [
        "number = int(input(\"Enter a number: \"))\n",
        "sum_of_digits = 0\n",
        "while number > 0:\n",
        "    digit = number % 10\n",
        "    sum_of_digits += digit\n",
        "    number = number // 10\n",
        "print(f\"The sum of the digits is {sum_of_digits}.\")"
      ],
      "metadata": {
        "id": "UT7eJCBIgJ5e"
      },
      "execution_count": null,
      "outputs": []
    },
    {
      "cell_type": "markdown",
      "source": [
        "Write a program that checks if a number input by the user is a prime number using a for loop."
      ],
      "metadata": {
        "id": "SeYuV03HhJS9"
      }
    },
    {
      "cell_type": "code",
      "source": [
        "number = int(input(\"Enter a number: \"))\n",
        "is_prime = True\n",
        "if number <= 1:\n",
        "    is_prime = False\n",
        "else:\n",
        "    for i in range(2, int(number ** 0.5) + 1):\n",
        "        if number % i == 0:\n",
        "            is_prime = False\n",
        "            break\n",
        "if is_prime:\n",
        "    print(f\"{number} is a prime number.\")\n",
        "else:\n",
        "    print(f\"{number} is not a prime number.\")"
      ],
      "metadata": {
        "id": "U10lloMxhLVA"
      },
      "execution_count": null,
      "outputs": []
    },
    {
      "cell_type": "markdown",
      "source": [
        "Write a program that prints the first n Fibonacci numbers, where n is input by the user."
      ],
      "metadata": {
        "id": "u3tupDTWhSVv"
      }
    },
    {
      "cell_type": "code",
      "source": [
        "n = int(input(\"Enter the number of Fibonacci numbers to print: \"))\n",
        "a, b = 0, 1\n",
        "count = 0\n",
        "while count < n:\n",
        "    print(a)\n",
        "    a, b = b, a + b\n",
        "    count += 1"
      ],
      "metadata": {
        "id": "M97KwpXNhS9i"
      },
      "execution_count": null,
      "outputs": []
    },
    {
      "cell_type": "markdown",
      "source": [
        "## Lists and List Comprehension"
      ],
      "metadata": {
        "id": "r0BstmEE4K70"
      }
    },
    {
      "cell_type": "code",
      "source": [
        "list=[\"gloria\",\"baby\",1,2,3]\n",
        "print(type(list))\n",
        "print(list)\n",
        "for i in list:\n",
        "  print(i,type(i))"
      ],
      "metadata": {
        "id": "-dvkALNv3u4U"
      },
      "execution_count": null,
      "outputs": []
    },
    {
      "cell_type": "code",
      "source": [
        "# Accessing list items\n",
        "fruits=[\"apple\",\"banana\",\"cherry\",\"kiwi\",\"mango\",\"grape\"]\n",
        "print(fruits[0]) # first index\n",
        "print(fruits[-1]) # last index"
      ],
      "metadata": {
        "id": "4OTRfLzI4Jf1"
      },
      "execution_count": null,
      "outputs": []
    },
    {
      "cell_type": "code",
      "source": [
        "print(fruits[1:]) # start from specific index to end"
      ],
      "metadata": {
        "id": "_ORtNvYY4mlv"
      },
      "execution_count": null,
      "outputs": []
    },
    {
      "cell_type": "code",
      "source": [
        "print(fruits[::-1]) # reverse items of list"
      ],
      "metadata": {
        "id": "kyQ_v6xz5Snq"
      },
      "execution_count": null,
      "outputs": []
    },
    {
      "cell_type": "code",
      "source": [
        "print(fruits[-2:])"
      ],
      "metadata": {
        "id": "XVa7OkDN5dZ5"
      },
      "execution_count": null,
      "outputs": []
    },
    {
      "cell_type": "code",
      "source": [
        "#change banana to watermelon\n",
        "fruits[1]=\"watermelon\"\n",
        "print(fruits)"
      ],
      "metadata": {
        "id": "AHzIVlFG7peO"
      },
      "execution_count": null,
      "outputs": []
    },
    {
      "cell_type": "code",
      "source": [
        "# list methods\n",
        "\n",
        "\n",
        "fruits=[\"apple\",\"banana\",\"cherry\",\"kiwi\",\"mango\",\"grape\"]\n",
        "# appending\n",
        "fruits.append('guava')\n",
        "\n",
        "# inserting  (index number, data)\n",
        "fruits.insert(1,'orange')\n",
        "fruits\n"
      ],
      "metadata": {
        "id": "fIMc-SQL8DX3"
      },
      "execution_count": null,
      "outputs": []
    },
    {
      "cell_type": "code",
      "source": [
        "# removing the first occurance of an item\n",
        "fruits.remove('cherry')"
      ],
      "metadata": {
        "id": "2k17aRSm8UW2"
      },
      "execution_count": null,
      "outputs": []
    },
    {
      "cell_type": "code",
      "source": [
        "fruits"
      ],
      "metadata": {
        "id": "e7R9VtIv9qic"
      },
      "execution_count": null,
      "outputs": []
    },
    {
      "cell_type": "code",
      "source": [
        "## remove and return the last\n",
        "fruits.pop()"
      ],
      "metadata": {
        "id": "fRzW0bjIMzmF"
      },
      "execution_count": null,
      "outputs": []
    },
    {
      "cell_type": "code",
      "source": [
        "fruits"
      ],
      "metadata": {
        "id": "U3WAFXPlM5n9"
      },
      "execution_count": null,
      "outputs": []
    },
    {
      "cell_type": "code",
      "source": [
        "# print the index\n",
        "index=fruits.index('kiwi')\n",
        "print(\"index of kiwi\",index)"
      ],
      "metadata": {
        "id": "TIT97yrpNQWX"
      },
      "execution_count": null,
      "outputs": []
    },
    {
      "cell_type": "code",
      "source": [
        "fruits.insert(2,'orange')\n",
        "fruits"
      ],
      "metadata": {
        "id": "lCgxRFZhP-xS"
      },
      "execution_count": null,
      "outputs": []
    },
    {
      "cell_type": "code",
      "source": [
        "# couning the item\n",
        "print(fruits.count('orange'))"
      ],
      "metadata": {
        "id": "gJw0wx-vQFfK"
      },
      "execution_count": null,
      "outputs": []
    },
    {
      "cell_type": "code",
      "source": [
        "fruits.reverse()"
      ],
      "metadata": {
        "id": "qeqAKOAyQqFt"
      },
      "execution_count": null,
      "outputs": []
    },
    {
      "cell_type": "code",
      "source": [
        "fruits"
      ],
      "metadata": {
        "id": "WvGkIR4uQvby"
      },
      "execution_count": null,
      "outputs": []
    },
    {
      "cell_type": "code",
      "source": [
        "# removing all items from the list\n",
        "fruits.clear()"
      ],
      "metadata": {
        "id": "u567YW73Qwt8"
      },
      "execution_count": null,
      "outputs": []
    },
    {
      "cell_type": "code",
      "source": [
        "fruits"
      ],
      "metadata": {
        "id": "nyO3fP4ZQz3P"
      },
      "execution_count": null,
      "outputs": []
    },
    {
      "cell_type": "code",
      "source": [
        "#slicing list\n",
        "numbers=[1,2,3,4,5,6,7,8,9,10]\n",
        "print(numbers[2:5])\n",
        "print(numbers[:5])\n",
        "print(numbers[5:])\n",
        "print(numbers[::2]) #jump 2 steps\n",
        "print(numbers[::-1])\n",
        "print(numbers[::]) # all items\n",
        "print(numbers[::3])"
      ],
      "metadata": {
        "id": "wA7iffsSAAqu"
      },
      "execution_count": null,
      "outputs": []
    },
    {
      "cell_type": "code",
      "source": [
        "# Iterating over list\n",
        "for fruit in fruits:\n",
        "  print(fruit)"
      ],
      "metadata": {
        "id": "qevlR2ilLJ9b"
      },
      "execution_count": null,
      "outputs": []
    },
    {
      "cell_type": "code",
      "source": [],
      "metadata": {
        "id": "3bkZp8wELsW3"
      },
      "execution_count": null,
      "outputs": []
    },
    {
      "cell_type": "code",
      "source": [
        "## iterating with index\n",
        "for index,number in enumerate(numbers):\n",
        "  print(index,number)\n"
      ],
      "metadata": {
        "id": "IAczQhjZLffN"
      },
      "execution_count": null,
      "outputs": []
    }
  ]
}