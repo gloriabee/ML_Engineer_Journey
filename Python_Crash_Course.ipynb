{
  "nbformat": 4,
  "nbformat_minor": 0,
  "metadata": {
    "colab": {
      "provenance": [],
      "authorship_tag": "ABX9TyOIEIIaZBCyo7OnK4C9FUeF",
      "include_colab_link": true
    },
    "kernelspec": {
      "name": "python3",
      "display_name": "Python 3"
    },
    "language_info": {
      "name": "python"
    }
  },
  "cells": [
    {
      "cell_type": "markdown",
      "metadata": {
        "id": "view-in-github",
        "colab_type": "text"
      },
      "source": [
        "<a href=\"https://colab.research.google.com/github/gloriabee/ML_Engineer_Journey/blob/main/Python_Crash_Course.ipynb\" target=\"_parent\"><img src=\"https://colab.research.google.com/assets/colab-badge.svg\" alt=\"Open In Colab\"/></a>"
      ]
    },
    {
      "cell_type": "markdown",
      "source": [
        "## Single Line Comment\n"
      ],
      "metadata": {
        "id": "LJuVXGNQiUX3"
      }
    },
    {
      "cell_type": "code",
      "source": [
        "# This is single line comment\n",
        "\n",
        "'''This is\n",
        "multiline\n",
        "comments'''"
      ],
      "metadata": {
        "colab": {
          "base_uri": "https://localhost:8080/",
          "height": 35
        },
        "id": "G9KBmDOkiKAa",
        "outputId": "98a08e63-df5b-49f5-dde0-b6a4a31130fe"
      },
      "execution_count": null,
      "outputs": [
        {
          "output_type": "execute_result",
          "data": {
            "text/plain": [
              "'This is\\nmultiline\\ncomments'"
            ],
            "application/vnd.google.colaboratory.intrinsic+json": {
              "type": "string"
            }
          },
          "metadata": {},
          "execution_count": 1
        }
      ]
    },
    {
      "cell_type": "markdown",
      "source": [
        "### Variable Declaration"
      ],
      "metadata": {
        "id": "6A8hqv2eilIE"
      }
    },
    {
      "cell_type": "code",
      "source": [
        "name=\"Gloria\"\n",
        "Name=\"Win Nyunt\"\n",
        "print(name)\n",
        "print(Name)"
      ],
      "metadata": {
        "colab": {
          "base_uri": "https://localhost:8080/"
        },
        "id": "mTYx-S3aikZm",
        "outputId": "45affca0-4ff8-4f32-e1f1-bf5adbc25934"
      },
      "execution_count": null,
      "outputs": [
        {
          "output_type": "stream",
          "name": "stdout",
          "text": [
            "Gloria\n",
            "Win Nyunt\n"
          ]
        }
      ]
    },
    {
      "cell_type": "markdown",
      "source": [
        "## Indentation"
      ],
      "metadata": {
        "id": "-W3BsaqzlyzX"
      }
    },
    {
      "cell_type": "code",
      "source": [
        "age=32\n",
        "if age>30:\n",
        "  print(age)\n",
        "print(age)"
      ],
      "metadata": {
        "colab": {
          "base_uri": "https://localhost:8080/"
        },
        "id": "bm9VQsZcl1L-",
        "outputId": "03187cc3-acc7-49ee-f2ba-709a80ec2647"
      },
      "execution_count": null,
      "outputs": [
        {
          "output_type": "stream",
          "name": "stdout",
          "text": [
            "32\n",
            "32\n"
          ]
        }
      ]
    },
    {
      "cell_type": "markdown",
      "source": [
        "## Data Types"
      ],
      "metadata": {
        "id": "LmlPPiTfmGZe"
      }
    },
    {
      "cell_type": "code",
      "source": [
        "age=32\n",
        "height=6.1\n",
        "name=\"Gloria\"\n",
        "is_student=True\n",
        "\n",
        "print(type(age))\n",
        "print(type(height))\n",
        "print(type(name))\n",
        "print(type(is_student))"
      ],
      "metadata": {
        "colab": {
          "base_uri": "https://localhost:8080/"
        },
        "id": "zSyPWoySmIni",
        "outputId": "00fed211-2935-47a8-d154-2387094d40f1"
      },
      "execution_count": null,
      "outputs": [
        {
          "output_type": "stream",
          "name": "stdout",
          "text": [
            "<class 'int'>\n",
            "<class 'float'>\n",
            "<class 'str'>\n",
            "<class 'bool'>\n"
          ]
        }
      ]
    },
    {
      "cell_type": "markdown",
      "source": [
        "### Type Conversion"
      ],
      "metadata": {
        "id": "mNimM2B_uzND"
      }
    },
    {
      "cell_type": "code",
      "source": [
        "age='25'\n",
        "age=int(age)\n",
        "print(type(age))\n"
      ],
      "metadata": {
        "colab": {
          "base_uri": "https://localhost:8080/"
        },
        "id": "5j1tX3Z0u1Fa",
        "outputId": "6d4e5277-0fd2-4944-edb6-5f364dd9ff70"
      },
      "execution_count": null,
      "outputs": [
        {
          "output_type": "stream",
          "name": "stdout",
          "text": [
            "<class 'int'>\n"
          ]
        }
      ]
    },
    {
      "cell_type": "code",
      "source": [
        "height=5.11\n",
        "type(height)\n",
        "float(int(height))"
      ],
      "metadata": {
        "colab": {
          "base_uri": "https://localhost:8080/"
        },
        "id": "N-79OZpavAv1",
        "outputId": "fe64c2a2-a094-42d5-cc29-47f02926ce5e"
      },
      "execution_count": null,
      "outputs": [
        {
          "output_type": "execute_result",
          "data": {
            "text/plain": [
              "5.0"
            ]
          },
          "metadata": {},
          "execution_count": 6
        }
      ]
    },
    {
      "cell_type": "code",
      "source": [
        "## Dynamic Typing\n",
        "var=10\n",
        "print(var,type(var))\n",
        "\n",
        "var=\"hello\"\n",
        "print(var,type(var))"
      ],
      "metadata": {
        "colab": {
          "base_uri": "https://localhost:8080/"
        },
        "id": "MMWfbTO6vKvw",
        "outputId": "fb2be062-278d-41c8-a88a-8cbfbb6f57d8"
      },
      "execution_count": null,
      "outputs": [
        {
          "output_type": "stream",
          "name": "stdout",
          "text": [
            "10 <class 'int'>\n",
            "hello <class 'str'>\n"
          ]
        }
      ]
    },
    {
      "cell_type": "code",
      "source": [
        "a=10\n",
        "b=10\n",
        "type(a==b)"
      ],
      "metadata": {
        "colab": {
          "base_uri": "https://localhost:8080/"
        },
        "id": "nDTxnhEtxtVB",
        "outputId": "4deecd4f-489c-464d-daf8-eb6cc3b9b68e"
      },
      "execution_count": null,
      "outputs": [
        {
          "output_type": "execute_result",
          "data": {
            "text/plain": [
              "bool"
            ]
          },
          "metadata": {},
          "execution_count": 8
        }
      ]
    },
    {
      "cell_type": "code",
      "source": [
        "result=\"Hello\"+str(5)\n",
        "print(result)"
      ],
      "metadata": {
        "colab": {
          "base_uri": "https://localhost:8080/"
        },
        "id": "tWJse2vRx2FA",
        "outputId": "fc44dceb-4d80-48a5-dd3d-3c2bc918ad4c"
      },
      "execution_count": null,
      "outputs": [
        {
          "output_type": "stream",
          "name": "stdout",
          "text": [
            "Hello5\n"
          ]
        }
      ]
    },
    {
      "cell_type": "markdown",
      "source": [
        "## Input"
      ],
      "metadata": {
        "id": "Rx6Lm2l8wKsU"
      }
    },
    {
      "cell_type": "code",
      "source": [
        "age=int(input(\"How old are you?\"))\n",
        "print(age,type(age))"
      ],
      "metadata": {
        "id": "IPfz36uBwJcn",
        "colab": {
          "base_uri": "https://localhost:8080/"
        },
        "outputId": "db05295b-f29c-4021-dd35-215ac49292e0"
      },
      "execution_count": null,
      "outputs": [
        {
          "output_type": "stream",
          "name": "stdout",
          "text": [
            "How old are you?23\n",
            "23 <class 'int'>\n"
          ]
        }
      ]
    },
    {
      "cell_type": "markdown",
      "source": [
        "### Operators in python\n"
      ],
      "metadata": {
        "id": "IyZdOGhFyN0K"
      }
    },
    {
      "cell_type": "code",
      "source": [
        "a=10\n",
        "b=5\n",
        "\n",
        "add_result=a+b\n",
        "sub_result=a-b\n",
        "mul_result=a*b\n",
        "div_result=a/b\n",
        "floor_div_result=a//b\n",
        "modulus_result=a%b\n",
        "exponent_result=a**b\n",
        "\n",
        "print(\"addition: \",add_result)\n",
        "print(\"subtraction: \",sub_result)\n",
        "print(\"multiplication: \",mul_result)\n",
        "print(\"division: \",div_result)\n",
        "print(\"floor division: \",floor_div_result)\n",
        "print(\"modulus: \",modulus_result)\n",
        "print(\"exponent: \",exponent_result)\n"
      ],
      "metadata": {
        "id": "-L_qyRa83LJ4",
        "colab": {
          "base_uri": "https://localhost:8080/"
        },
        "outputId": "708516ec-1f51-4c41-eb33-83bc1255d7c3"
      },
      "execution_count": null,
      "outputs": [
        {
          "metadata": {
            "tags": null
          },
          "name": "stdout",
          "output_type": "stream",
          "text": [
            "addition:  15\n",
            "subtraction:  5\n",
            "multiplication:  50\n",
            "division:  2.0\n",
            "floor division:  2\n",
            "modulus:  0\n",
            "exponent:  100000\n"
          ]
        }
      ]
    },
    {
      "cell_type": "markdown",
      "source": [
        "## Comparison Operators"
      ],
      "metadata": {
        "id": "YAnCkhGEyDGq"
      }
    },
    {
      "cell_type": "code",
      "source": [
        "a=10\n",
        "b=10\n",
        "print(a==b)\n",
        "\n",
        "str1=\"Gloria\"\n",
        "str2=\"gloria\"\n",
        "print(str1==str2)\n",
        "\n",
        "# Not equal to\n",
        "str1!=str2\n",
        "\n",
        "#Greater than\n",
        "num1=45\n",
        "num2=55\n",
        "print(num1>num2)\n",
        "\n",
        "#Less than\n",
        "print(num1<num2)\n",
        "\n",
        "#greater than equal to\n",
        "num1=45\n",
        "num2=45\n",
        "print(num1>=num2)\n",
        "print(num1<=num2)\n"
      ],
      "metadata": {
        "id": "jC4cO7y_yGZQ",
        "colab": {
          "base_uri": "https://localhost:8080/"
        },
        "outputId": "630571d5-d577-4a83-892a-f13b723cf66a"
      },
      "execution_count": null,
      "outputs": [
        {
          "output_type": "stream",
          "name": "stdout",
          "text": [
            "True\n",
            "False\n",
            "False\n",
            "True\n",
            "True\n",
            "True\n"
          ]
        }
      ]
    },
    {
      "cell_type": "markdown",
      "source": [
        "## Logical Operators"
      ],
      "metadata": {
        "id": "jn3TDbKxzfWO"
      }
    },
    {
      "cell_type": "code",
      "source": [
        "from re import T\n",
        "## And, Not, OR\n",
        "X=True\n",
        "Y=False\n",
        "result= X and Y\n",
        "print(result)\n",
        "\n",
        "result= X or Y\n",
        "print(result)\n",
        "\n",
        "result= not X\n",
        "print(result)"
      ],
      "metadata": {
        "colab": {
          "base_uri": "https://localhost:8080/"
        },
        "id": "QcxgIT3Xy2lW",
        "outputId": "a8d78ba2-a8e8-4f71-9221-85449584006a"
      },
      "execution_count": null,
      "outputs": [
        {
          "output_type": "stream",
          "name": "stdout",
          "text": [
            "False\n",
            "True\n",
            "False\n"
          ]
        }
      ]
    },
    {
      "cell_type": "markdown",
      "source": [
        "**Question 4:** Write a Python program to find the largest of three numbers."
      ],
      "metadata": {
        "id": "PeROqE6G2cz2"
      }
    },
    {
      "cell_type": "code",
      "source": [
        "num1 = float(input(\"Enter first number: \"))\n",
        "num2 = float(input(\"Enter second number: \"))\n",
        "num3 = float(input(\"Enter third number: \"))\n",
        "print(max(num1,num2,num3))"
      ],
      "metadata": {
        "colab": {
          "base_uri": "https://localhost:8080/"
        },
        "id": "m1wCO-2Y2bBC",
        "outputId": "36d95080-b92f-4d41-83cd-662a30238757"
      },
      "execution_count": null,
      "outputs": [
        {
          "output_type": "stream",
          "name": "stdout",
          "text": [
            "Enter first number: 80\n",
            "Enter second number: 10\n",
            "Enter third number: 30\n",
            "80.0\n"
          ]
        }
      ]
    },
    {
      "cell_type": "markdown",
      "source": [
        "**Question 5:** Write a Python program to calculate the factorial of a number."
      ],
      "metadata": {
        "id": "XH6NDWbO2aos"
      }
    },
    {
      "cell_type": "code",
      "source": [
        "# from math import factorial\n",
        "# print(factorial(4))\n",
        "\n"
      ],
      "metadata": {
        "colab": {
          "base_uri": "https://localhost:8080/"
        },
        "id": "C89WrZZN2phL",
        "outputId": "1255f08f-69e3-4cdc-8a7d-5782c89a7810"
      },
      "execution_count": null,
      "outputs": [
        {
          "output_type": "stream",
          "name": "stdout",
          "text": [
            "24\n"
          ]
        }
      ]
    },
    {
      "cell_type": "markdown",
      "source": [
        "**Question 7:** Write a Python program to swap the values of two variables."
      ],
      "metadata": {
        "id": "m-8bLzPB4HiR"
      }
    },
    {
      "cell_type": "code",
      "source": [
        "a=5\n",
        "b=7\n",
        "a,b=b,a\n",
        "print(a)\n",
        "print(b)"
      ],
      "metadata": {
        "colab": {
          "base_uri": "https://localhost:8080/"
        },
        "id": "IdwbWVRq4IJH",
        "outputId": "c04f5f0d-01be-49bd-ae94-8851731f15d2"
      },
      "execution_count": null,
      "outputs": [
        {
          "output_type": "stream",
          "name": "stdout",
          "text": [
            "7\n",
            "5\n"
          ]
        }
      ]
    },
    {
      "cell_type": "markdown",
      "source": [
        "**Question 8:** Write a Python program to convert Celsius to Fahrenheit."
      ],
      "metadata": {
        "id": "K0cYzfJ74Pk8"
      }
    },
    {
      "cell_type": "code",
      "source": [
        "celsius = float(input(\"Enter temperature in Celsius: \"))\n",
        "fahrenheit = (celsius * 9/5) + 32\n",
        "print(f\"{celsius}°C is equal to {fahrenheit}°F\")"
      ],
      "metadata": {
        "colab": {
          "base_uri": "https://localhost:8080/"
        },
        "id": "84_8oYNF4Sau",
        "outputId": "dbf72294-c9f8-4079-a434-ff380750db9c"
      },
      "execution_count": null,
      "outputs": [
        {
          "output_type": "stream",
          "name": "stdout",
          "text": [
            "Enter temperature in Celsius: 25\n",
            "25.0°C is equal to 77.0°F\n"
          ]
        }
      ]
    },
    {
      "cell_type": "markdown",
      "source": [
        "**Question 16:** Write a Python program to find the sum of the first n natural numbers."
      ],
      "metadata": {
        "id": "pP95wH-B4Y5y"
      }
    },
    {
      "cell_type": "code",
      "source": [
        "# Solution\n",
        "n = int(input(\"Enter a number: \"))\n",
        "sum_n = (n * (n + 1)) // 2\n",
        "print(f\"The sum of the first {n} natural numbers is {sum_n}\")"
      ],
      "metadata": {
        "colab": {
          "base_uri": "https://localhost:8080/"
        },
        "id": "MK5LSd4U4jH2",
        "outputId": "25763583-3f9e-44f2-daaf-0b398e10d5ab"
      },
      "execution_count": null,
      "outputs": [
        {
          "output_type": "stream",
          "name": "stdout",
          "text": [
            "Enter a number: 5\n",
            "The sum of the first 5 natural numbers is 15\n"
          ]
        }
      ]
    },
    {
      "cell_type": "markdown",
      "source": [
        "**Question 17:** Write a Python program to check if a year is a leap year."
      ],
      "metadata": {
        "id": "3H9BEWNb40Qy"
      }
    },
    {
      "cell_type": "code",
      "source": [
        "# Solution\n",
        "year = int(input(\"Enter a year: \"))\n",
        "if (year % 4 == 0 and year % 100 != 0) or (year % 400 == 0):\n",
        "    print(f\"{year} is a leap year.\")\n",
        "else:\n",
        "    print(f\"{year} is not a leap year.\")"
      ],
      "metadata": {
        "colab": {
          "base_uri": "https://localhost:8080/"
        },
        "id": "29aIHzwS42V2",
        "outputId": "9fbc1c37-13ce-4614-da8f-d833015ca3a9"
      },
      "execution_count": null,
      "outputs": [
        {
          "output_type": "stream",
          "name": "stdout",
          "text": [
            "Enter a year: 2025\n",
            "2025 is not a leap year.\n"
          ]
        }
      ]
    },
    {
      "cell_type": "markdown",
      "source": [
        "**Question 18:** Write a Python program to reverse a string."
      ],
      "metadata": {
        "id": "HFYs-qks5gOs"
      }
    },
    {
      "cell_type": "code",
      "source": [
        "string=input('Enter a string')\n",
        "print(string[::-1])"
      ],
      "metadata": {
        "colab": {
          "base_uri": "https://localhost:8080/"
        },
        "id": "Li_QIbtk5fGE",
        "outputId": "924bbb04-4c46-4c6a-fae7-6d7957c66b18"
      },
      "execution_count": null,
      "outputs": [
        {
          "output_type": "stream",
          "name": "stdout",
          "text": [
            "Enter a stringbook\n",
            "koob\n"
          ]
        }
      ]
    },
    {
      "cell_type": "markdown",
      "source": [
        "**Question 19:** Write a Python program to check if a string is a palindrome."
      ],
      "metadata": {
        "id": "NLCe4EUe5pqQ"
      }
    },
    {
      "cell_type": "code",
      "source": [
        "string=input('Enter a string')\n",
        "if string==string[::-1]:\n",
        "  print('Palindrome')\n",
        "else:\n",
        "  print('Not Palindrome')"
      ],
      "metadata": {
        "colab": {
          "base_uri": "https://localhost:8080/"
        },
        "id": "ppUuY6Sm5uXL",
        "outputId": "965d935b-9da9-4d09-e576-5df3d66ce8ed"
      },
      "execution_count": null,
      "outputs": [
        {
          "output_type": "stream",
          "name": "stdout",
          "text": [
            "Enter a stringmom\n",
            "Palindrome\n"
          ]
        }
      ]
    },
    {
      "cell_type": "markdown",
      "source": [
        "**Question 20:** Write a Python program to sort a list of numbers in ascending order."
      ],
      "metadata": {
        "id": "Gv-2Laec541c"
      }
    },
    {
      "cell_type": "code",
      "source": [
        "# list=[10,4,2,42]\n",
        "# print(sorted(list))\n",
        "\n"
      ],
      "metadata": {
        "colab": {
          "base_uri": "https://localhost:8080/"
        },
        "id": "dLcLWwwY55ij",
        "outputId": "8456ec2c-671f-49d7-9232-279b3e6621a2"
      },
      "execution_count": null,
      "outputs": [
        {
          "output_type": "stream",
          "name": "stdout",
          "text": [
            "[2, 4, 10, 42]\n"
          ]
        }
      ]
    },
    {
      "cell_type": "markdown",
      "source": [
        "## Conditional Statements"
      ],
      "metadata": {
        "id": "bHljcGZE63i7"
      }
    },
    {
      "cell_type": "code",
      "source": [
        "## if elseif else statement\n",
        "\n",
        "age=19\n",
        "if age<13:\n",
        "  print(\"You are a child\")\n",
        "elif age<18:\n",
        "  print(\"You are a teenager\")\n",
        "else:\n",
        "  print(\"You are an adult\")\n"
      ],
      "metadata": {
        "colab": {
          "base_uri": "https://localhost:8080/"
        },
        "id": "ajynG9BV650R",
        "outputId": "e57659b1-25c5-45a3-b68c-dcb849f7c5bd"
      },
      "execution_count": null,
      "outputs": [
        {
          "output_type": "stream",
          "name": "stdout",
          "text": [
            "You are an adult\n"
          ]
        }
      ]
    },
    {
      "cell_type": "code",
      "source": [
        "# Nested Conditional Statements\n",
        "num=int(input(\"Enter a number\"))\n",
        "\n",
        "if num>0:\n",
        "  print(\"The number is positive\")\n",
        "  if num%2==0:\n",
        "    print(\"The number is even\")\n",
        "  else:\n",
        "    print(\"The number is odd\")\n",
        "else:\n",
        "  print(\"The number is negative\")\n"
      ],
      "metadata": {
        "colab": {
          "base_uri": "https://localhost:8080/"
        },
        "id": "zY6_YV_Y79_7",
        "outputId": "ef637a13-9032-4c96-8874-9b8f051a72f4"
      },
      "execution_count": null,
      "outputs": [
        {
          "output_type": "stream",
          "name": "stdout",
          "text": [
            "Enter a number234\n",
            "The number is positive\n",
            "The number is even\n"
          ]
        }
      ]
    },
    {
      "cell_type": "markdown",
      "source": [
        "## Loops in Python"
      ],
      "metadata": {
        "id": "JGMYNYad9GHv"
      }
    },
    {
      "cell_type": "code",
      "source": [
        "# for loop\n",
        "for i in range(5):\n",
        "  print(i)\n",
        "\n",
        "for i in range(1,6):\n",
        "  print(i)\n",
        "\n",
        "for i in range(1,10,2):\n",
        "  print(i)\n",
        "\n",
        "for i in range(10,1,-2):\n",
        "  print(i)\n"
      ],
      "metadata": {
        "colab": {
          "base_uri": "https://localhost:8080/"
        },
        "id": "GtXzcX-V9IjJ",
        "outputId": "76d1a5b0-d235-4578-f1d1-d386896d2368"
      },
      "execution_count": null,
      "outputs": [
        {
          "output_type": "stream",
          "name": "stdout",
          "text": [
            "0\n",
            "1\n",
            "2\n",
            "3\n",
            "4\n",
            "1\n",
            "2\n",
            "3\n",
            "4\n",
            "5\n",
            "1\n",
            "3\n",
            "5\n",
            "7\n",
            "9\n",
            "10\n",
            "8\n",
            "6\n",
            "4\n",
            "2\n"
          ]
        }
      ]
    },
    {
      "cell_type": "code",
      "source": [
        "# Strings\n",
        "\n",
        "str='Gloria Win Nyunt'\n",
        "for i in str:\n",
        "  print(i)"
      ],
      "metadata": {
        "colab": {
          "base_uri": "https://localhost:8080/"
        },
        "id": "_iDlvNCy-GPw",
        "outputId": "63c776b2-9db7-4480-c933-a362a0f4b4e4"
      },
      "execution_count": null,
      "outputs": [
        {
          "output_type": "stream",
          "name": "stdout",
          "text": [
            "G\n",
            "l\n",
            "o\n",
            "r\n",
            "i\n",
            "a\n",
            " \n",
            "W\n",
            "i\n",
            "n\n",
            " \n",
            "N\n",
            "y\n",
            "u\n",
            "n\n",
            "t\n"
          ]
        }
      ]
    },
    {
      "cell_type": "code",
      "source": [
        "# While loop\n",
        "\n",
        "count=0\n",
        "while count<5:\n",
        "  print(count)\n",
        "  count=count+1\n"
      ],
      "metadata": {
        "colab": {
          "base_uri": "https://localhost:8080/"
        },
        "id": "BCaq_ESx_lwI",
        "outputId": "baf898fd-8991-43bc-82ce-ffcb3b5ccff7"
      },
      "execution_count": null,
      "outputs": [
        {
          "output_type": "stream",
          "name": "stdout",
          "text": [
            "0\n",
            "1\n",
            "2\n",
            "3\n",
            "4\n"
          ]
        }
      ]
    },
    {
      "cell_type": "code",
      "source": [
        "# loop control statements\n",
        "# break statement\n",
        "for i in range(10):\n",
        "  if i==4:\n",
        "    break\n",
        "  print(i)\n",
        "\n"
      ],
      "metadata": {
        "colab": {
          "base_uri": "https://localhost:8080/"
        },
        "id": "XQMOJsLn__Dd",
        "outputId": "e44c99fd-17c1-4fd7-99a3-248314f3ad0f"
      },
      "execution_count": null,
      "outputs": [
        {
          "output_type": "stream",
          "name": "stdout",
          "text": [
            "0\n",
            "1\n",
            "2\n",
            "3\n"
          ]
        }
      ]
    },
    {
      "cell_type": "code",
      "source": [
        "# loop control statements\n",
        "# continue statement\n",
        "for i in range(10):\n",
        "  if i==4:\n",
        "    continue\n",
        "  print(i)"
      ],
      "metadata": {
        "colab": {
          "base_uri": "https://localhost:8080/"
        },
        "id": "rR_9ycDgAXbG",
        "outputId": "970e425d-2472-4d67-c45d-9223cda83e8f"
      },
      "execution_count": null,
      "outputs": [
        {
          "output_type": "stream",
          "name": "stdout",
          "text": [
            "0\n",
            "1\n",
            "2\n",
            "3\n",
            "5\n",
            "6\n",
            "7\n",
            "8\n",
            "9\n"
          ]
        }
      ]
    },
    {
      "cell_type": "code",
      "source": [
        "# pass\n",
        "## The pass statement is a null operation; it does nothing\n",
        "\n",
        "for i in range(5):\n",
        "  if i==3:\n",
        "    pass\n",
        "  print(i)"
      ],
      "metadata": {
        "colab": {
          "base_uri": "https://localhost:8080/"
        },
        "id": "G2T3O-5bBBcS",
        "outputId": "362a289a-0ec9-4372-8594-04bb50a7b302"
      },
      "execution_count": null,
      "outputs": [
        {
          "output_type": "stream",
          "name": "stdout",
          "text": [
            "0\n",
            "1\n",
            "2\n",
            "3\n",
            "4\n"
          ]
        }
      ]
    },
    {
      "cell_type": "code",
      "source": [
        "# Nested loops\n",
        "# a loop inside a loop\n",
        "for i in range(3):\n",
        "  for j in range(2):\n",
        "    print(i,j)"
      ],
      "metadata": {
        "colab": {
          "base_uri": "https://localhost:8080/"
        },
        "id": "IBRe8Ci7Bn_d",
        "outputId": "f980ad5f-dbcc-4d76-fbe3-0801b9299fc4"
      },
      "execution_count": null,
      "outputs": [
        {
          "output_type": "stream",
          "name": "stdout",
          "text": [
            "0 0\n",
            "0 1\n",
            "1 0\n",
            "1 1\n",
            "2 0\n",
            "2 1\n"
          ]
        }
      ]
    },
    {
      "cell_type": "code",
      "source": [
        "# Calculate the sum of first N natural numbers using a while and for loop\n",
        "\n",
        "# using while loop\n",
        "n=10\n",
        "sum=0\n",
        "while n>0:\n",
        "  sum=sum+n\n",
        "  n=n-1\n",
        "print(sum)\n",
        "\n",
        "# using for loop\n",
        "sum=0\n",
        "for i in range(11):\n",
        "  sum=sum+i\n",
        "print(sum)\n"
      ],
      "metadata": {
        "colab": {
          "base_uri": "https://localhost:8080/"
        },
        "id": "xqQlXJmuB4fB",
        "outputId": "aa439cdf-63f8-4e15-ed06-a63c136463f0"
      },
      "execution_count": null,
      "outputs": [
        {
          "output_type": "stream",
          "name": "stdout",
          "text": [
            "55\n",
            "55\n"
          ]
        }
      ]
    },
    {
      "cell_type": "code",
      "source": [
        "# Prime numbers between 1 and 100\n",
        "for num in range(1,101):\n",
        "  if num>1:\n",
        "    for i in range(2,num):\n",
        "      if num%i==0:\n",
        "        break\n",
        "    else:\n",
        "      print(num)\n"
      ],
      "metadata": {
        "colab": {
          "base_uri": "https://localhost:8080/"
        },
        "id": "QG_BehDtC8nh",
        "outputId": "9d7312fe-053a-4503-8c7f-fd05fcb4577c"
      },
      "execution_count": null,
      "outputs": [
        {
          "output_type": "stream",
          "name": "stdout",
          "text": [
            "2\n",
            "3\n",
            "5\n",
            "7\n",
            "11\n",
            "13\n",
            "17\n",
            "19\n",
            "23\n",
            "29\n",
            "31\n",
            "37\n",
            "41\n",
            "43\n",
            "47\n",
            "53\n",
            "59\n",
            "61\n",
            "67\n",
            "71\n",
            "73\n",
            "79\n",
            "83\n",
            "89\n",
            "97\n"
          ]
        }
      ]
    },
    {
      "cell_type": "markdown",
      "source": [
        "Write a program that prints all the numbers from 1 to 10 using a for loop."
      ],
      "metadata": {
        "id": "y4i8NydO_lFL"
      }
    },
    {
      "cell_type": "code",
      "source": [
        "for i in range(1,11):\n",
        "  print(i)"
      ],
      "metadata": {
        "colab": {
          "base_uri": "https://localhost:8080/"
        },
        "id": "XdwdyV3tNQhy",
        "outputId": "df89647b-420d-45f9-a69d-aede36628b80"
      },
      "execution_count": 1,
      "outputs": [
        {
          "output_type": "stream",
          "name": "stdout",
          "text": [
            "1\n",
            "2\n",
            "3\n",
            "4\n",
            "5\n",
            "6\n",
            "7\n",
            "8\n",
            "9\n",
            "10\n"
          ]
        }
      ]
    },
    {
      "cell_type": "markdown",
      "source": [
        "Write a program that prints a 5x5 grid of asterisks (*) using nested loops."
      ],
      "metadata": {
        "id": "atgv6trPN5cm"
      }
    },
    {
      "cell_type": "code",
      "source": [
        "for i in range(5):\n",
        "  for j in range(5):\n",
        "    print(\"*\",end=\"\")\n",
        "  print(\"\")"
      ],
      "metadata": {
        "colab": {
          "base_uri": "https://localhost:8080/"
        },
        "id": "Pd_LP4eMN-Sg",
        "outputId": "802b008e-e58e-428a-ee5d-a23c718ec812"
      },
      "execution_count": 5,
      "outputs": [
        {
          "output_type": "stream",
          "name": "stdout",
          "text": [
            "*****\n",
            "*****\n",
            "*****\n",
            "*****\n",
            "*****\n"
          ]
        }
      ]
    },
    {
      "cell_type": "markdown",
      "source": [
        "Write a program that asks the user to input numbers until they input 0. The program should print the sum of all the input numbers."
      ],
      "metadata": {
        "id": "PoTvo2S-OVW2"
      }
    },
    {
      "cell_type": "code",
      "source": [
        "# sum=0\n",
        "# num=int(input(\"Enter number\"))\n",
        "# while num!=0:\n",
        "#   sum+=num\n",
        "#   num=int(input(\"Enter number\"))\n",
        "# print(sum)\n",
        "\n",
        "total=0\n",
        "while True:\n",
        "  num=float(input(\"Enter a number: \"))\n",
        "  if num==0:\n",
        "    break\n",
        "  total+=num\n",
        "print(total)"
      ],
      "metadata": {
        "colab": {
          "base_uri": "https://localhost:8080/"
        },
        "id": "ryMaxoyPOWQu",
        "outputId": "fa6d0557-5d8c-4169-c5ee-750e40f143cc"
      },
      "execution_count": 10,
      "outputs": [
        {
          "output_type": "stream",
          "name": "stdout",
          "text": [
            "Enter a number: 3\n",
            "Enter a number: 2\n",
            "Enter a number: 1\n",
            "Enter a number: 0\n",
            "6.0\n"
          ]
        }
      ]
    },
    {
      "cell_type": "code",
      "source": [
        "#Write a program that prints all the numbers from 1 to 10 except 5 using a for loop and continue statement.\n",
        "for i in range(1,11):\n",
        "  if i==5:\n",
        "    continue\n",
        "  print(i)\n"
      ],
      "metadata": {
        "colab": {
          "base_uri": "https://localhost:8080/"
        },
        "id": "V_T-O5bRUQOk",
        "outputId": "8a53c9d8-c3b4-4240-b079-d2bca24c72ee"
      },
      "execution_count": 13,
      "outputs": [
        {
          "output_type": "stream",
          "name": "stdout",
          "text": [
            "1\n",
            "2\n",
            "3\n",
            "4\n",
            "6\n",
            "7\n",
            "8\n",
            "9\n",
            "10\n"
          ]
        }
      ]
    },
    {
      "cell_type": "markdown",
      "source": [
        "<!-- Write a program that asks the user to input a number and prints all the even numbers from 1 to that number using a for loop. -->\n"
      ],
      "metadata": {
        "id": "gzuNAiKOWP9Y"
      }
    },
    {
      "cell_type": "markdown",
      "source": [
        "Write a program that asks the user to input a number and prints all the even numbers from 1 to that number using a for loop."
      ],
      "metadata": {
        "id": "rRq7RilzZVqW"
      }
    },
    {
      "cell_type": "code",
      "source": [
        "num= int(input('Enter a number: '))\n",
        "for i in range(1,num+1):\n",
        "  if i%2==0:\n",
        "    print(i)"
      ],
      "metadata": {
        "colab": {
          "base_uri": "https://localhost:8080/"
        },
        "id": "ONAuUZpIY4eR",
        "outputId": "85faaa3b-ed33-431b-ce3e-d6615e5d3fd0"
      },
      "execution_count": 17,
      "outputs": [
        {
          "output_type": "stream",
          "name": "stdout",
          "text": [
            "Enter a number: 10\n",
            "2\n",
            "4\n",
            "6\n",
            "8\n",
            "10\n"
          ]
        }
      ]
    },
    {
      "cell_type": "markdown",
      "source": [
        "Write a program that calculates the factorial of a number input by the user using a while loop."
      ],
      "metadata": {
        "id": "VIRy0KYIZXAO"
      }
    },
    {
      "cell_type": "code",
      "source": [
        "num=int(input(\"Enter a number\"))\n",
        "fact=1\n",
        "i=1\n",
        "while i<=num:\n",
        "  fact*=i\n",
        "  i+=1\n",
        "print(fact)"
      ],
      "metadata": {
        "colab": {
          "base_uri": "https://localhost:8080/"
        },
        "id": "0HYZ6eqcZara",
        "outputId": "7357fd9e-dab7-4964-bfef-72e5b9a5af3b"
      },
      "execution_count": 20,
      "outputs": [
        {
          "output_type": "stream",
          "name": "stdout",
          "text": [
            "Enter a number4\n",
            "24\n"
          ]
        }
      ]
    },
    {
      "cell_type": "markdown",
      "source": [
        "Write a program that calculates the sum of the digits of a number input by the user using a while loop."
      ],
      "metadata": {
        "id": "EvopvBbIgI9r"
      }
    },
    {
      "cell_type": "code",
      "source": [
        "number = int(input(\"Enter a number: \"))\n",
        "sum_of_digits = 0\n",
        "while number > 0:\n",
        "    digit = number % 10\n",
        "    sum_of_digits += digit\n",
        "    number = number // 10\n",
        "print(f\"The sum of the digits is {sum_of_digits}.\")"
      ],
      "metadata": {
        "colab": {
          "base_uri": "https://localhost:8080/"
        },
        "id": "UT7eJCBIgJ5e",
        "outputId": "756a00a2-7bbd-4c78-d573-c8cc652e39ce"
      },
      "execution_count": 23,
      "outputs": [
        {
          "output_type": "stream",
          "name": "stdout",
          "text": [
            "Enter a number: 10\n",
            "The sum of the digits is 1.\n"
          ]
        }
      ]
    },
    {
      "cell_type": "markdown",
      "source": [
        "Write a program that checks if a number input by the user is a prime number using a for loop."
      ],
      "metadata": {
        "id": "SeYuV03HhJS9"
      }
    },
    {
      "cell_type": "code",
      "source": [
        "number = int(input(\"Enter a number: \"))\n",
        "is_prime = True\n",
        "if number <= 1:\n",
        "    is_prime = False\n",
        "else:\n",
        "    for i in range(2, int(number ** 0.5) + 1):\n",
        "        if number % i == 0:\n",
        "            is_prime = False\n",
        "            break\n",
        "if is_prime:\n",
        "    print(f\"{number} is a prime number.\")\n",
        "else:\n",
        "    print(f\"{number} is not a prime number.\")"
      ],
      "metadata": {
        "colab": {
          "base_uri": "https://localhost:8080/"
        },
        "id": "U10lloMxhLVA",
        "outputId": "7215f666-da26-4fd7-abf5-846caeadcf2e"
      },
      "execution_count": 25,
      "outputs": [
        {
          "output_type": "stream",
          "name": "stdout",
          "text": [
            "Enter a number: 5\n",
            "5 is a prime number.\n"
          ]
        }
      ]
    },
    {
      "cell_type": "markdown",
      "source": [
        "Write a program that prints the first n Fibonacci numbers, where n is input by the user."
      ],
      "metadata": {
        "id": "u3tupDTWhSVv"
      }
    },
    {
      "cell_type": "code",
      "source": [
        "n = int(input(\"Enter the number of Fibonacci numbers to print: \"))\n",
        "a, b = 0, 1\n",
        "count = 0\n",
        "while count < n:\n",
        "    print(a)\n",
        "    a, b = b, a + b\n",
        "    count += 1"
      ],
      "metadata": {
        "colab": {
          "base_uri": "https://localhost:8080/"
        },
        "id": "M97KwpXNhS9i",
        "outputId": "468bdff7-c557-4d51-aecb-73d1ff2ee4ae"
      },
      "execution_count": 28,
      "outputs": [
        {
          "output_type": "stream",
          "name": "stdout",
          "text": [
            "Enter the number of Fibonacci numbers to print: 5\n",
            "0\n",
            "1\n",
            "1\n",
            "2\n",
            "3\n"
          ]
        }
      ]
    }
  ]
}