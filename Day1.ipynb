{
  "nbformat": 4,
  "nbformat_minor": 0,
  "metadata": {
    "colab": {
      "provenance": [],
      "authorship_tag": "ABX9TyP/uV2H5a7b7FJxS9/Ow1Lt",
      "include_colab_link": true
    },
    "kernelspec": {
      "name": "python3",
      "display_name": "Python 3"
    },
    "language_info": {
      "name": "python"
    }
  },
  "cells": [
    {
      "cell_type": "markdown",
      "metadata": {
        "id": "view-in-github",
        "colab_type": "text"
      },
      "source": [
        "<a href=\"https://colab.research.google.com/github/gloriabee/ML_Engineer_Journey/blob/main/Day1.ipynb\" target=\"_parent\"><img src=\"https://colab.research.google.com/assets/colab-badge.svg\" alt=\"Open In Colab\"/></a>"
      ]
    },
    {
      "cell_type": "markdown",
      "source": [
        "# Introduction to Machine Learning, its applications and roadmap overview"
      ],
      "metadata": {
        "id": "t1qp5V5uxp4x"
      }
    },
    {
      "cell_type": "markdown",
      "source": [
        "**What is Machine Learning?**\n",
        "\n",
        "ML is the process of training a piece of software, called a model, to make useful predictions or generate content from data.\n",
        "\n",
        "**Examples**\n",
        "\n",
        "suppose we wanted to create an app to predict rainfall. We could use either a traditional approach or an ML approach. Using a traditional approach, we'd create a physics-based representation of the Earth's atmosphere and surface, computing massive amounts of fluid dynamics equations. This is incredibly difficult.\n",
        "\n",
        "Using an ML approach, we would give an ML model enormous amounts of weather data until the ML model eventually learned the mathematical relationship between weather patterns that produce differing amounts of rain. We would then give the model the current weather data, and it would predict the amount of rain.\n"
      ],
      "metadata": {
        "id": "9J13mSHXx_XV"
      }
    },
    {
      "cell_type": "markdown",
      "source": [
        "**Types of ML Systems**\n",
        "\n",
        "1.  Supervised learning\n",
        "2.  Unsupervised learning\n",
        "3. Reinforcement learning\n",
        "4. Generative AI\n"
      ],
      "metadata": {
        "id": "ggxrP3aez5GC"
      }
    },
    {
      "cell_type": "markdown",
      "source": [],
      "metadata": {
        "id": "zb8UNoqg0Lo1"
      }
    }
  ]
}